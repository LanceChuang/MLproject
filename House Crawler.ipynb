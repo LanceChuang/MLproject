{
 "cells": [
  {
   "cell_type": "markdown",
   "metadata": {},
   "source": [
    "# Crawling 591 website example"
   ]
  },
  {
   "cell_type": "markdown",
   "metadata": {},
   "source": [
    "#  data munging"
   ]
  },
  {
   "cell_type": "code",
   "execution_count": 1,
   "metadata": {
    "collapsed": true
   },
   "outputs": [],
   "source": [
    "import requests\n",
    "\n",
    "\n",
    "url = \"https://rent.591.com.tw/home/search/rsList?is_new_list=1&type=1&kind=1&searchtype=1&region=1&section=5&firstRow=60&totalRows=571\"\n",
    "headers = {\n",
    "   'User-Agent':'Mozilla/5.0 (Windows NT 6.1; Win64; x64) AppleWebKit/537.36 (KHTML, like Gecko) Chrome/59.0.3071.115 Safari/537.36' \n",
    "}\n",
    "res = requests.get(url,headers=headers)\n",
    "data = res.json()"
   ]
  },
  {
   "cell_type": "code",
   "execution_count": 2,
   "metadata": {
    "collapsed": false
   },
   "outputs": [],
   "source": [
    "# data"
   ]
  },
  {
   "cell_type": "code",
   "execution_count": 46,
   "metadata": {
    "collapsed": false
   },
   "outputs": [
    {
     "data": {
      "text/html": [
       "<div>\n",
       "<table border=\"1\" class=\"dataframe\">\n",
       "  <thead>\n",
       "    <tr style=\"text-align: right;\">\n",
       "      <th></th>\n",
       "      <th>addInfo</th>\n",
       "      <th>addition2</th>\n",
       "      <th>addition3</th>\n",
       "      <th>addition4</th>\n",
       "      <th>addr_number_name</th>\n",
       "      <th>address</th>\n",
       "      <th>address_img</th>\n",
       "      <th>address_img_title</th>\n",
       "      <th>alley_name</th>\n",
       "      <th>allfloor</th>\n",
       "      <th>...</th>\n",
       "      <th>storeprice</th>\n",
       "      <th>street_name</th>\n",
       "      <th>streetid</th>\n",
       "      <th>type</th>\n",
       "      <th>unit</th>\n",
       "      <th>updatetime</th>\n",
       "      <th>user_id</th>\n",
       "      <th>vipBorder</th>\n",
       "      <th>vipimg</th>\n",
       "      <th>vipstyle</th>\n",
       "    </tr>\n",
       "  </thead>\n",
       "  <tbody>\n",
       "    <tr>\n",
       "      <th>0</th>\n",
       "      <td>&lt;img src=\"./images/index/userCenter/list_vip_v...</td>\n",
       "      <td>0</td>\n",
       "      <td>0</td>\n",
       "      <td>0</td>\n",
       "      <td></td>\n",
       "      <td>四維路22巷仁愛圓環邊間二..</td>\n",
       "      <td>仁愛圓環邊間二房美寓</td>\n",
       "      <td>仁愛圓環邊間二房美寓</td>\n",
       "      <td>22巷</td>\n",
       "      <td>4</td>\n",
       "      <td>...</td>\n",
       "      <td>0</td>\n",
       "      <td>四維路</td>\n",
       "      <td>25619</td>\n",
       "      <td>1</td>\n",
       "      <td>元/月</td>\n",
       "      <td>1500028322</td>\n",
       "      <td>965423</td>\n",
       "      <td>vipStyle</td>\n",
       "      <td>&lt;img src=\"./images/index/userCenter/list_vip_v...</td>\n",
       "      <td>isvip</td>\n",
       "    </tr>\n",
       "    <tr>\n",
       "      <th>1</th>\n",
       "      <td>&lt;img src=\"./images/index/userCenter/list_vip_v...</td>\n",
       "      <td>0</td>\n",
       "      <td>0</td>\n",
       "      <td>0</td>\n",
       "      <td></td>\n",
       "      <td>信義路三段134巷近大安站..</td>\n",
       "      <td>近大安站.大安森林公園AIT精美三房</td>\n",
       "      <td>近大安站.大安森林公園AIT精美三房</td>\n",
       "      <td>134巷</td>\n",
       "      <td>7</td>\n",
       "      <td>...</td>\n",
       "      <td>0</td>\n",
       "      <td>信義路三段</td>\n",
       "      <td>25647</td>\n",
       "      <td>1</td>\n",
       "      <td>元/月</td>\n",
       "      <td>1500111330</td>\n",
       "      <td>2013042</td>\n",
       "      <td>vipStyle</td>\n",
       "      <td>&lt;img src=\"./images/index/userCenter/list_vip_v...</td>\n",
       "      <td>isvip</td>\n",
       "    </tr>\n",
       "    <tr>\n",
       "      <th>2</th>\n",
       "      <td></td>\n",
       "      <td>0</td>\n",
       "      <td>0</td>\n",
       "      <td>0</td>\n",
       "      <td></td>\n",
       "      <td>金山南路二段寧靜美宅,人文薈..</td>\n",
       "      <td>寧靜美宅,人文薈萃,都市核心,錯過不在</td>\n",
       "      <td>寧靜美宅,人文薈萃,都市核心,錯過不在</td>\n",
       "      <td></td>\n",
       "      <td>4</td>\n",
       "      <td>...</td>\n",
       "      <td>0</td>\n",
       "      <td>金山南路二段</td>\n",
       "      <td>25642</td>\n",
       "      <td>1</td>\n",
       "      <td>元/月</td>\n",
       "      <td>1500728431</td>\n",
       "      <td>1791779</td>\n",
       "      <td></td>\n",
       "      <td></td>\n",
       "      <td></td>\n",
       "    </tr>\n",
       "    <tr>\n",
       "      <th>3</th>\n",
       "      <td></td>\n",
       "      <td>0</td>\n",
       "      <td>0</td>\n",
       "      <td>0</td>\n",
       "      <td></td>\n",
       "      <td>金山南路二段獨家！捷運東門旁..</td>\n",
       "      <td>獨家！捷運東門旁1分【電梯3房】可住可辦</td>\n",
       "      <td>獨家！捷運東門旁1分【電梯3房】可住可辦</td>\n",
       "      <td></td>\n",
       "      <td>12</td>\n",
       "      <td>...</td>\n",
       "      <td>0</td>\n",
       "      <td>金山南路二段</td>\n",
       "      <td>25642</td>\n",
       "      <td>1</td>\n",
       "      <td>元/月</td>\n",
       "      <td>1500654974</td>\n",
       "      <td>1318377</td>\n",
       "      <td></td>\n",
       "      <td></td>\n",
       "      <td></td>\n",
       "    </tr>\n",
       "    <tr>\n",
       "      <th>4</th>\n",
       "      <td></td>\n",
       "      <td>0</td>\n",
       "      <td>0</td>\n",
       "      <td>0</td>\n",
       "      <td></td>\n",
       "      <td>忠孝東路四段216巷捷運忠孝敦..</td>\n",
       "      <td>捷運忠孝敦化站4分【正東區】精品2房1廳</td>\n",
       "      <td>捷運忠孝敦化站4分【正東區】精品2房1廳</td>\n",
       "      <td>216巷</td>\n",
       "      <td>5</td>\n",
       "      <td>...</td>\n",
       "      <td>0</td>\n",
       "      <td>忠孝東路四段</td>\n",
       "      <td>25637</td>\n",
       "      <td>1</td>\n",
       "      <td>元/月</td>\n",
       "      <td>1500637023</td>\n",
       "      <td>1318377</td>\n",
       "      <td></td>\n",
       "      <td></td>\n",
       "      <td></td>\n",
       "    </tr>\n",
       "  </tbody>\n",
       "</table>\n",
       "<p>5 rows × 88 columns</p>\n",
       "</div>"
      ],
      "text/plain": [
       "                                             addInfo  addition2  addition3  \\\n",
       "0  <img src=\"./images/index/userCenter/list_vip_v...          0          0   \n",
       "1  <img src=\"./images/index/userCenter/list_vip_v...          0          0   \n",
       "2                                                             0          0   \n",
       "3                                                             0          0   \n",
       "4                                                             0          0   \n",
       "\n",
       "   addition4 addr_number_name            address           address_img  \\\n",
       "0          0                     四維路22巷仁愛圓環邊間二..            仁愛圓環邊間二房美寓   \n",
       "1          0                     信義路三段134巷近大安站..    近大安站.大安森林公園AIT精美三房   \n",
       "2          0                    金山南路二段寧靜美宅,人文薈..   寧靜美宅,人文薈萃,都市核心,錯過不在   \n",
       "3          0                    金山南路二段獨家！捷運東門旁..  獨家！捷運東門旁1分【電梯3房】可住可辦   \n",
       "4          0                   忠孝東路四段216巷捷運忠孝敦..  捷運忠孝敦化站4分【正東區】精品2房1廳   \n",
       "\n",
       "      address_img_title alley_name  allfloor    ...    storeprice  \\\n",
       "0            仁愛圓環邊間二房美寓        22巷         4    ...             0   \n",
       "1    近大安站.大安森林公園AIT精美三房       134巷         7    ...             0   \n",
       "2   寧靜美宅,人文薈萃,都市核心,錯過不在                    4    ...             0   \n",
       "3  獨家！捷運東門旁1分【電梯3房】可住可辦                   12    ...             0   \n",
       "4  捷運忠孝敦化站4分【正東區】精品2房1廳       216巷         5    ...             0   \n",
       "\n",
       "   street_name streetid  type  unit  updatetime  user_id  vipBorder  \\\n",
       "0          四維路    25619     1   元/月  1500028322   965423   vipStyle   \n",
       "1        信義路三段    25647     1   元/月  1500111330  2013042   vipStyle   \n",
       "2       金山南路二段    25642     1   元/月  1500728431  1791779              \n",
       "3       金山南路二段    25642     1   元/月  1500654974  1318377              \n",
       "4       忠孝東路四段    25637     1   元/月  1500637023  1318377              \n",
       "\n",
       "                                              vipimg  vipstyle  \n",
       "0  <img src=\"./images/index/userCenter/list_vip_v...     isvip  \n",
       "1  <img src=\"./images/index/userCenter/list_vip_v...     isvip  \n",
       "2                                                               \n",
       "3                                                               \n",
       "4                                                               \n",
       "\n",
       "[5 rows x 88 columns]"
      ]
     },
     "execution_count": 46,
     "metadata": {},
     "output_type": "execute_result"
    }
   ],
   "source": [
    "import pandas\n",
    "df = pandas.DataFrame(data[\"data\"][\"data\"])\n",
    "df.head()"
   ]
  },
  {
   "cell_type": "code",
   "execution_count": 47,
   "metadata": {
    "collapsed": false
   },
   "outputs": [
    {
     "data": {
      "text/html": [
       "<div>\n",
       "<table border=\"1\" class=\"dataframe\">\n",
       "  <thead>\n",
       "    <tr style=\"text-align: right;\">\n",
       "      <th></th>\n",
       "      <th>address</th>\n",
       "      <th>floor</th>\n",
       "      <th>allfloor</th>\n",
       "      <th>layout</th>\n",
       "      <th>area</th>\n",
       "      <th>price</th>\n",
       "      <th>browsenum_all</th>\n",
       "    </tr>\n",
       "  </thead>\n",
       "  <tbody>\n",
       "    <tr>\n",
       "      <th>0</th>\n",
       "      <td>四維路22巷仁愛圓環邊間二..</td>\n",
       "      <td>4</td>\n",
       "      <td>4</td>\n",
       "      <td>2房2廳2衛</td>\n",
       "      <td>37.7</td>\n",
       "      <td>48,000</td>\n",
       "      <td>179</td>\n",
       "    </tr>\n",
       "    <tr>\n",
       "      <th>1</th>\n",
       "      <td>信義路三段134巷近大安站..</td>\n",
       "      <td>2</td>\n",
       "      <td>7</td>\n",
       "      <td>3房2廳2衛</td>\n",
       "      <td>37.1</td>\n",
       "      <td>33,000</td>\n",
       "      <td>822</td>\n",
       "    </tr>\n",
       "    <tr>\n",
       "      <th>2</th>\n",
       "      <td>金山南路二段寧靜美宅,人文薈..</td>\n",
       "      <td>2</td>\n",
       "      <td>4</td>\n",
       "      <td>2房2廳1衛</td>\n",
       "      <td>26.0</td>\n",
       "      <td>33,000</td>\n",
       "      <td>15</td>\n",
       "    </tr>\n",
       "    <tr>\n",
       "      <th>3</th>\n",
       "      <td>金山南路二段獨家！捷運東門旁..</td>\n",
       "      <td>8</td>\n",
       "      <td>12</td>\n",
       "      <td>3房2廳2衛</td>\n",
       "      <td>25.0</td>\n",
       "      <td>39,800</td>\n",
       "      <td>55</td>\n",
       "    </tr>\n",
       "    <tr>\n",
       "      <th>4</th>\n",
       "      <td>忠孝東路四段216巷捷運忠孝敦..</td>\n",
       "      <td>4</td>\n",
       "      <td>5</td>\n",
       "      <td>2房1廳1衛</td>\n",
       "      <td>20.0</td>\n",
       "      <td>33,000</td>\n",
       "      <td>410</td>\n",
       "    </tr>\n",
       "  </tbody>\n",
       "</table>\n",
       "</div>"
      ],
      "text/plain": [
       "             address  floor  allfloor  layout  area   price  browsenum_all\n",
       "0    四維路22巷仁愛圓環邊間二..      4         4  2房2廳2衛  37.7  48,000            179\n",
       "1    信義路三段134巷近大安站..      2         7  3房2廳2衛  37.1  33,000            822\n",
       "2   金山南路二段寧靜美宅,人文薈..      2         4  2房2廳1衛  26.0  33,000             15\n",
       "3   金山南路二段獨家！捷運東門旁..      8        12  3房2廳2衛  25.0  39,800             55\n",
       "4  忠孝東路四段216巷捷運忠孝敦..      4         5  2房1廳1衛  20.0  33,000            410"
      ]
     },
     "execution_count": 47,
     "metadata": {},
     "output_type": "execute_result"
    }
   ],
   "source": [
    "# get useful info we need\n",
    "df = df[[\"address\",\"floor\",\"allfloor\",\"layout\",\"area\",\"price\",\"browsenum_all\"]]\n",
    "df.head()"
   ]
  },
  {
   "cell_type": "markdown",
   "metadata": {},
   "source": [
    "# Data Cleaning"
   ]
  },
  {
   "cell_type": "code",
   "execution_count": 48,
   "metadata": {
    "collapsed": false
   },
   "outputs": [
    {
     "data": {
      "text/html": [
       "<div>\n",
       "<table border=\"1\" class=\"dataframe\">\n",
       "  <thead>\n",
       "    <tr style=\"text-align: right;\">\n",
       "      <th></th>\n",
       "      <th>address</th>\n",
       "      <th>floor</th>\n",
       "      <th>allfloor</th>\n",
       "      <th>layout</th>\n",
       "      <th>area</th>\n",
       "      <th>price</th>\n",
       "      <th>browsenum_all</th>\n",
       "      <th>layout_bedroom</th>\n",
       "      <th>layout_livingroom</th>\n",
       "      <th>layout_bathroom</th>\n",
       "    </tr>\n",
       "  </thead>\n",
       "  <tbody>\n",
       "    <tr>\n",
       "      <th>0</th>\n",
       "      <td>四維路22巷仁愛圓環邊間二..</td>\n",
       "      <td>4</td>\n",
       "      <td>4</td>\n",
       "      <td>2房2廳2衛</td>\n",
       "      <td>37.7</td>\n",
       "      <td>48,000</td>\n",
       "      <td>179</td>\n",
       "      <td>2</td>\n",
       "      <td>2</td>\n",
       "      <td>2</td>\n",
       "    </tr>\n",
       "    <tr>\n",
       "      <th>1</th>\n",
       "      <td>信義路三段134巷近大安站..</td>\n",
       "      <td>2</td>\n",
       "      <td>7</td>\n",
       "      <td>3房2廳2衛</td>\n",
       "      <td>37.1</td>\n",
       "      <td>33,000</td>\n",
       "      <td>822</td>\n",
       "      <td>3</td>\n",
       "      <td>2</td>\n",
       "      <td>2</td>\n",
       "    </tr>\n",
       "    <tr>\n",
       "      <th>2</th>\n",
       "      <td>金山南路二段寧靜美宅,人文薈..</td>\n",
       "      <td>2</td>\n",
       "      <td>4</td>\n",
       "      <td>2房2廳1衛</td>\n",
       "      <td>26.0</td>\n",
       "      <td>33,000</td>\n",
       "      <td>15</td>\n",
       "      <td>2</td>\n",
       "      <td>2</td>\n",
       "      <td>1</td>\n",
       "    </tr>\n",
       "    <tr>\n",
       "      <th>3</th>\n",
       "      <td>金山南路二段獨家！捷運東門旁..</td>\n",
       "      <td>8</td>\n",
       "      <td>12</td>\n",
       "      <td>3房2廳2衛</td>\n",
       "      <td>25.0</td>\n",
       "      <td>39,800</td>\n",
       "      <td>55</td>\n",
       "      <td>3</td>\n",
       "      <td>2</td>\n",
       "      <td>2</td>\n",
       "    </tr>\n",
       "    <tr>\n",
       "      <th>4</th>\n",
       "      <td>忠孝東路四段216巷捷運忠孝敦..</td>\n",
       "      <td>4</td>\n",
       "      <td>5</td>\n",
       "      <td>2房1廳1衛</td>\n",
       "      <td>20.0</td>\n",
       "      <td>33,000</td>\n",
       "      <td>410</td>\n",
       "      <td>2</td>\n",
       "      <td>1</td>\n",
       "      <td>1</td>\n",
       "    </tr>\n",
       "  </tbody>\n",
       "</table>\n",
       "</div>"
      ],
      "text/plain": [
       "             address  floor  allfloor  layout  area   price  browsenum_all  \\\n",
       "0    四維路22巷仁愛圓環邊間二..      4         4  2房2廳2衛  37.7  48,000            179   \n",
       "1    信義路三段134巷近大安站..      2         7  3房2廳2衛  37.1  33,000            822   \n",
       "2   金山南路二段寧靜美宅,人文薈..      2         4  2房2廳1衛  26.0  33,000             15   \n",
       "3   金山南路二段獨家！捷運東門旁..      8        12  3房2廳2衛  25.0  39,800             55   \n",
       "4  忠孝東路四段216巷捷運忠孝敦..      4         5  2房1廳1衛  20.0  33,000            410   \n",
       "\n",
       "  layout_bedroom layout_livingroom layout_bathroom  \n",
       "0              2                 2               2  \n",
       "1              3                 2               2  \n",
       "2              2                 2               1  \n",
       "3              3                 2               2  \n",
       "4              2                 1               1  "
      ]
     },
     "execution_count": 48,
     "metadata": {},
     "output_type": "execute_result"
    }
   ],
   "source": [
    "# get info of bedroom, livingroom, bathroom\n",
    "# df[\"layout\"]\n",
    "# extract groups from the first match of regular expression\n",
    "df[[\"layout_bedroom\",\"layout_livingroom\",\"layout_bathroom\"]] = df[\"layout\"].str.extract(\"(\\d+)房(\\d+)廳(\\d+)衛\",expand=False)\n",
    "df.head()"
   ]
  },
  {
   "cell_type": "code",
   "execution_count": 49,
   "metadata": {
    "collapsed": false
   },
   "outputs": [
    {
     "data": {
      "text/html": [
       "<div>\n",
       "<table border=\"1\" class=\"dataframe\">\n",
       "  <thead>\n",
       "    <tr style=\"text-align: right;\">\n",
       "      <th></th>\n",
       "      <th>address</th>\n",
       "      <th>floor</th>\n",
       "      <th>allfloor</th>\n",
       "      <th>layout</th>\n",
       "      <th>area</th>\n",
       "      <th>price</th>\n",
       "      <th>browsenum_all</th>\n",
       "      <th>layout_bedroom</th>\n",
       "      <th>layout_livingroom</th>\n",
       "      <th>layout_bathroom</th>\n",
       "    </tr>\n",
       "  </thead>\n",
       "  <tbody>\n",
       "    <tr>\n",
       "      <th>0</th>\n",
       "      <td>四維路22巷仁愛圓環邊間二..</td>\n",
       "      <td>4</td>\n",
       "      <td>4</td>\n",
       "      <td>2房2廳2衛</td>\n",
       "      <td>37.7</td>\n",
       "      <td>48000</td>\n",
       "      <td>179</td>\n",
       "      <td>2</td>\n",
       "      <td>2</td>\n",
       "      <td>2</td>\n",
       "    </tr>\n",
       "    <tr>\n",
       "      <th>1</th>\n",
       "      <td>信義路三段134巷近大安站..</td>\n",
       "      <td>2</td>\n",
       "      <td>7</td>\n",
       "      <td>3房2廳2衛</td>\n",
       "      <td>37.1</td>\n",
       "      <td>33000</td>\n",
       "      <td>822</td>\n",
       "      <td>3</td>\n",
       "      <td>2</td>\n",
       "      <td>2</td>\n",
       "    </tr>\n",
       "    <tr>\n",
       "      <th>2</th>\n",
       "      <td>金山南路二段寧靜美宅,人文薈..</td>\n",
       "      <td>2</td>\n",
       "      <td>4</td>\n",
       "      <td>2房2廳1衛</td>\n",
       "      <td>26.0</td>\n",
       "      <td>33000</td>\n",
       "      <td>15</td>\n",
       "      <td>2</td>\n",
       "      <td>2</td>\n",
       "      <td>1</td>\n",
       "    </tr>\n",
       "    <tr>\n",
       "      <th>3</th>\n",
       "      <td>金山南路二段獨家！捷運東門旁..</td>\n",
       "      <td>8</td>\n",
       "      <td>12</td>\n",
       "      <td>3房2廳2衛</td>\n",
       "      <td>25.0</td>\n",
       "      <td>39800</td>\n",
       "      <td>55</td>\n",
       "      <td>3</td>\n",
       "      <td>2</td>\n",
       "      <td>2</td>\n",
       "    </tr>\n",
       "    <tr>\n",
       "      <th>4</th>\n",
       "      <td>忠孝東路四段216巷捷運忠孝敦..</td>\n",
       "      <td>4</td>\n",
       "      <td>5</td>\n",
       "      <td>2房1廳1衛</td>\n",
       "      <td>20.0</td>\n",
       "      <td>33000</td>\n",
       "      <td>410</td>\n",
       "      <td>2</td>\n",
       "      <td>1</td>\n",
       "      <td>1</td>\n",
       "    </tr>\n",
       "  </tbody>\n",
       "</table>\n",
       "</div>"
      ],
      "text/plain": [
       "             address  floor  allfloor  layout  area  price  browsenum_all  \\\n",
       "0    四維路22巷仁愛圓環邊間二..      4         4  2房2廳2衛  37.7  48000            179   \n",
       "1    信義路三段134巷近大安站..      2         7  3房2廳2衛  37.1  33000            822   \n",
       "2   金山南路二段寧靜美宅,人文薈..      2         4  2房2廳1衛  26.0  33000             15   \n",
       "3   金山南路二段獨家！捷運東門旁..      8        12  3房2廳2衛  25.0  39800             55   \n",
       "4  忠孝東路四段216巷捷運忠孝敦..      4         5  2房1廳1衛  20.0  33000            410   \n",
       "\n",
       "  layout_bedroom layout_livingroom layout_bathroom  \n",
       "0              2                 2               2  \n",
       "1              3                 2               2  \n",
       "2              2                 2               1  \n",
       "3              3                 2               2  \n",
       "4              2                 1               1  "
      ]
     },
     "execution_count": 49,
     "metadata": {},
     "output_type": "execute_result"
    }
   ],
   "source": [
    "# convert price\n",
    "df[\"price\"] = df[\"price\"].map(lambda e: int(''.join(e.split(','))))\n",
    "# df[\"price\"]\n",
    "df.head()"
   ]
  },
  {
   "cell_type": "code",
   "execution_count": 51,
   "metadata": {
    "collapsed": false
   },
   "outputs": [],
   "source": [
    "df.to_excel(\"house591.xlsx\")"
   ]
  },
  {
   "cell_type": "markdown",
   "metadata": {},
   "source": [
    "# Data Stroage"
   ]
  },
  {
   "cell_type": "code",
   "execution_count": 52,
   "metadata": {
    "collapsed": true
   },
   "outputs": [],
   "source": [
    "import sqlite3\n",
    "# store data into sqlite\n",
    "conn = sqlite3.connect(\"house.sqlite\")\n",
    "# with sqlite3.connect('house.sqlite') as db:\n",
    "#     df.to_sql('renthouse', con = db)\n",
    "df.to_sql(\"renthouse\",con=conn)"
   ]
  },
  {
   "cell_type": "code",
   "execution_count": 53,
   "metadata": {
    "collapsed": false
   },
   "outputs": [
    {
     "data": {
      "text/html": [
       "<div>\n",
       "<table border=\"1\" class=\"dataframe\">\n",
       "  <thead>\n",
       "    <tr style=\"text-align: right;\">\n",
       "      <th></th>\n",
       "      <th>index</th>\n",
       "      <th>address</th>\n",
       "      <th>floor</th>\n",
       "      <th>allfloor</th>\n",
       "      <th>layout</th>\n",
       "      <th>area</th>\n",
       "      <th>price</th>\n",
       "      <th>browsenum_all</th>\n",
       "      <th>layout_bedroom</th>\n",
       "      <th>layout_livingroom</th>\n",
       "      <th>layout_bathroom</th>\n",
       "    </tr>\n",
       "  </thead>\n",
       "  <tbody>\n",
       "    <tr>\n",
       "      <th>0</th>\n",
       "      <td>0</td>\n",
       "      <td>四維路22巷仁愛圓環邊間二..</td>\n",
       "      <td>4</td>\n",
       "      <td>4</td>\n",
       "      <td>2房2廳2衛</td>\n",
       "      <td>37.7</td>\n",
       "      <td>48000</td>\n",
       "      <td>179</td>\n",
       "      <td>2</td>\n",
       "      <td>2</td>\n",
       "      <td>2</td>\n",
       "    </tr>\n",
       "    <tr>\n",
       "      <th>1</th>\n",
       "      <td>1</td>\n",
       "      <td>信義路三段134巷近大安站..</td>\n",
       "      <td>2</td>\n",
       "      <td>7</td>\n",
       "      <td>3房2廳2衛</td>\n",
       "      <td>37.1</td>\n",
       "      <td>33000</td>\n",
       "      <td>822</td>\n",
       "      <td>3</td>\n",
       "      <td>2</td>\n",
       "      <td>2</td>\n",
       "    </tr>\n",
       "    <tr>\n",
       "      <th>2</th>\n",
       "      <td>2</td>\n",
       "      <td>金山南路二段寧靜美宅,人文薈..</td>\n",
       "      <td>2</td>\n",
       "      <td>4</td>\n",
       "      <td>2房2廳1衛</td>\n",
       "      <td>26.0</td>\n",
       "      <td>33000</td>\n",
       "      <td>15</td>\n",
       "      <td>2</td>\n",
       "      <td>2</td>\n",
       "      <td>1</td>\n",
       "    </tr>\n",
       "    <tr>\n",
       "      <th>3</th>\n",
       "      <td>3</td>\n",
       "      <td>金山南路二段獨家！捷運東門旁..</td>\n",
       "      <td>8</td>\n",
       "      <td>12</td>\n",
       "      <td>3房2廳2衛</td>\n",
       "      <td>25.0</td>\n",
       "      <td>39800</td>\n",
       "      <td>55</td>\n",
       "      <td>3</td>\n",
       "      <td>2</td>\n",
       "      <td>2</td>\n",
       "    </tr>\n",
       "    <tr>\n",
       "      <th>4</th>\n",
       "      <td>4</td>\n",
       "      <td>忠孝東路四段216巷捷運忠孝敦..</td>\n",
       "      <td>4</td>\n",
       "      <td>5</td>\n",
       "      <td>2房1廳1衛</td>\n",
       "      <td>20.0</td>\n",
       "      <td>33000</td>\n",
       "      <td>410</td>\n",
       "      <td>2</td>\n",
       "      <td>1</td>\n",
       "      <td>1</td>\n",
       "    </tr>\n",
       "  </tbody>\n",
       "</table>\n",
       "</div>"
      ],
      "text/plain": [
       "   index            address  floor  allfloor  layout  area  price  \\\n",
       "0      0    四維路22巷仁愛圓環邊間二..      4         4  2房2廳2衛  37.7  48000   \n",
       "1      1    信義路三段134巷近大安站..      2         7  3房2廳2衛  37.1  33000   \n",
       "2      2   金山南路二段寧靜美宅,人文薈..      2         4  2房2廳1衛  26.0  33000   \n",
       "3      3   金山南路二段獨家！捷運東門旁..      8        12  3房2廳2衛  25.0  39800   \n",
       "4      4  忠孝東路四段216巷捷運忠孝敦..      4         5  2房1廳1衛  20.0  33000   \n",
       "\n",
       "   browsenum_all layout_bedroom layout_livingroom layout_bathroom  \n",
       "0            179              2                 2               2  \n",
       "1            822              3                 2               2  \n",
       "2             15              2                 2               1  \n",
       "3             55              3                 2               2  \n",
       "4            410              2                 1               1  "
      ]
     },
     "execution_count": 53,
     "metadata": {},
     "output_type": "execute_result"
    }
   ],
   "source": [
    "# retrieve data from sqlite\n",
    "with sqlite3.connect(\"house.sqlite\") as db:\n",
    "    df2 = pandas.read_sql_query(\"select * from renthouse\",con=db) #Read SQL query into a DataFrame\n",
    "df2.head()"
   ]
  },
  {
   "cell_type": "markdown",
   "metadata": {},
   "source": [
    "# Data Analysis"
   ]
  },
  {
   "cell_type": "code",
   "execution_count": 54,
   "metadata": {
    "collapsed": false
   },
   "outputs": [
    {
     "data": {
      "text/html": [
       "<div>\n",
       "<table border=\"1\" class=\"dataframe\">\n",
       "  <thead>\n",
       "    <tr style=\"text-align: right;\">\n",
       "      <th></th>\n",
       "      <th>floor</th>\n",
       "      <th>allfloor</th>\n",
       "      <th>area</th>\n",
       "      <th>price</th>\n",
       "      <th>browsenum_all</th>\n",
       "    </tr>\n",
       "  </thead>\n",
       "  <tbody>\n",
       "    <tr>\n",
       "      <th>count</th>\n",
       "      <td>30.000000</td>\n",
       "      <td>30.000000</td>\n",
       "      <td>30.000000</td>\n",
       "      <td>30.000000</td>\n",
       "      <td>30.000000</td>\n",
       "    </tr>\n",
       "    <tr>\n",
       "      <th>mean</th>\n",
       "      <td>5.300000</td>\n",
       "      <td>10.000000</td>\n",
       "      <td>36.790000</td>\n",
       "      <td>54796.666667</td>\n",
       "      <td>423.733333</td>\n",
       "    </tr>\n",
       "    <tr>\n",
       "      <th>std</th>\n",
       "      <td>3.120013</td>\n",
       "      <td>3.805622</td>\n",
       "      <td>17.678827</td>\n",
       "      <td>33003.411353</td>\n",
       "      <td>670.224509</td>\n",
       "    </tr>\n",
       "    <tr>\n",
       "      <th>min</th>\n",
       "      <td>1.000000</td>\n",
       "      <td>4.000000</td>\n",
       "      <td>12.000000</td>\n",
       "      <td>21500.000000</td>\n",
       "      <td>8.000000</td>\n",
       "    </tr>\n",
       "    <tr>\n",
       "      <th>25%</th>\n",
       "      <td>3.250000</td>\n",
       "      <td>7.000000</td>\n",
       "      <td>25.475000</td>\n",
       "      <td>33000.000000</td>\n",
       "      <td>68.250000</td>\n",
       "    </tr>\n",
       "    <tr>\n",
       "      <th>50%</th>\n",
       "      <td>4.500000</td>\n",
       "      <td>10.500000</td>\n",
       "      <td>32.500000</td>\n",
       "      <td>45500.000000</td>\n",
       "      <td>215.000000</td>\n",
       "    </tr>\n",
       "    <tr>\n",
       "      <th>75%</th>\n",
       "      <td>7.750000</td>\n",
       "      <td>14.000000</td>\n",
       "      <td>52.250000</td>\n",
       "      <td>66000.000000</td>\n",
       "      <td>405.250000</td>\n",
       "    </tr>\n",
       "    <tr>\n",
       "      <th>max</th>\n",
       "      <td>13.000000</td>\n",
       "      <td>16.000000</td>\n",
       "      <td>71.000000</td>\n",
       "      <td>178000.000000</td>\n",
       "      <td>3190.000000</td>\n",
       "    </tr>\n",
       "  </tbody>\n",
       "</table>\n",
       "</div>"
      ],
      "text/plain": [
       "           floor   allfloor       area          price  browsenum_all\n",
       "count  30.000000  30.000000  30.000000      30.000000      30.000000\n",
       "mean    5.300000  10.000000  36.790000   54796.666667     423.733333\n",
       "std     3.120013   3.805622  17.678827   33003.411353     670.224509\n",
       "min     1.000000   4.000000  12.000000   21500.000000       8.000000\n",
       "25%     3.250000   7.000000  25.475000   33000.000000      68.250000\n",
       "50%     4.500000  10.500000  32.500000   45500.000000     215.000000\n",
       "75%     7.750000  14.000000  52.250000   66000.000000     405.250000\n",
       "max    13.000000  16.000000  71.000000  178000.000000    3190.000000"
      ]
     },
     "execution_count": 54,
     "metadata": {},
     "output_type": "execute_result"
    }
   ],
   "source": [
    "df.describe()"
   ]
  },
  {
   "cell_type": "code",
   "execution_count": 55,
   "metadata": {
    "collapsed": false
   },
   "outputs": [
    {
     "data": {
      "text/html": [
       "<div>\n",
       "<table border=\"1\" class=\"dataframe\">\n",
       "  <thead>\n",
       "    <tr style=\"text-align: right;\">\n",
       "      <th></th>\n",
       "      <th>address</th>\n",
       "      <th>floor</th>\n",
       "      <th>allfloor</th>\n",
       "      <th>layout</th>\n",
       "      <th>area</th>\n",
       "      <th>price</th>\n",
       "      <th>browsenum_all</th>\n",
       "      <th>layout_bedroom</th>\n",
       "      <th>layout_livingroom</th>\n",
       "      <th>layout_bathroom</th>\n",
       "    </tr>\n",
       "  </thead>\n",
       "  <tbody>\n",
       "    <tr>\n",
       "      <th>17</th>\n",
       "      <td>大安路二段捷運大安站/靜巷豪..</td>\n",
       "      <td>4</td>\n",
       "      <td>7</td>\n",
       "      <td>3房2廳2衛</td>\n",
       "      <td>70.2</td>\n",
       "      <td>178000</td>\n",
       "      <td>18</td>\n",
       "      <td>3</td>\n",
       "      <td>2</td>\n",
       "      <td>2</td>\n",
       "    </tr>\n",
       "    <tr>\n",
       "      <th>19</th>\n",
       "      <td>敦化南路一段尊貴輝煌,鑽石名..</td>\n",
       "      <td>10</td>\n",
       "      <td>14</td>\n",
       "      <td>3房2廳2衛</td>\n",
       "      <td>62.4</td>\n",
       "      <td>120000</td>\n",
       "      <td>20</td>\n",
       "      <td>3</td>\n",
       "      <td>2</td>\n",
       "      <td>2</td>\n",
       "    </tr>\n",
       "    <tr>\n",
       "      <th>24</th>\n",
       "      <td>仁愛路四段MRT國父紀念館仁愛..</td>\n",
       "      <td>4</td>\n",
       "      <td>14</td>\n",
       "      <td>2房2廳2衛</td>\n",
       "      <td>56.2</td>\n",
       "      <td>90000</td>\n",
       "      <td>8</td>\n",
       "      <td>2</td>\n",
       "      <td>2</td>\n",
       "      <td>2</td>\n",
       "    </tr>\n",
       "    <tr>\n",
       "      <th>9</th>\n",
       "      <td>仁愛路四段精美屋況●採光明亮..</td>\n",
       "      <td>4</td>\n",
       "      <td>14</td>\n",
       "      <td>2房2廳2衛</td>\n",
       "      <td>56.0</td>\n",
       "      <td>90000</td>\n",
       "      <td>205</td>\n",
       "      <td>2</td>\n",
       "      <td>2</td>\n",
       "      <td>2</td>\n",
       "    </tr>\n",
       "    <tr>\n",
       "      <th>10</th>\n",
       "      <td>復興南路一段低公設美四房●精..</td>\n",
       "      <td>4</td>\n",
       "      <td>7</td>\n",
       "      <td>4房2廳3衛</td>\n",
       "      <td>62.0</td>\n",
       "      <td>83000</td>\n",
       "      <td>108</td>\n",
       "      <td>4</td>\n",
       "      <td>2</td>\n",
       "      <td>3</td>\n",
       "    </tr>\n",
       "  </tbody>\n",
       "</table>\n",
       "</div>"
      ],
      "text/plain": [
       "              address  floor  allfloor  layout  area   price  browsenum_all  \\\n",
       "17   大安路二段捷運大安站/靜巷豪..      4         7  3房2廳2衛  70.2  178000             18   \n",
       "19   敦化南路一段尊貴輝煌,鑽石名..     10        14  3房2廳2衛  62.4  120000             20   \n",
       "24  仁愛路四段MRT國父紀念館仁愛..      4        14  2房2廳2衛  56.2   90000              8   \n",
       "9    仁愛路四段精美屋況●採光明亮..      4        14  2房2廳2衛  56.0   90000            205   \n",
       "10   復興南路一段低公設美四房●精..      4         7  4房2廳3衛  62.0   83000            108   \n",
       "\n",
       "   layout_bedroom layout_livingroom layout_bathroom  \n",
       "17              3                 2               2  \n",
       "19              3                 2               2  \n",
       "24              2                 2               2  \n",
       "9               2                 2               2  \n",
       "10              4                 2               3  "
      ]
     },
     "execution_count": 55,
     "metadata": {},
     "output_type": "execute_result"
    }
   ],
   "source": [
    "df.sort_values([\"price\"],ascending=False).head() # descending order"
   ]
  },
  {
   "cell_type": "code",
   "execution_count": 64,
   "metadata": {
    "collapsed": false
   },
   "outputs": [],
   "source": [
    "import requests\n",
    "# give firstRow empty and loop it later\n",
    "# {} format to impulse number\n",
    "url = \"https://rent.591.com.tw/home/search/rsList?is_new_list=1&type=1&kind=1&searchtype=1&region=1&section=5&firstRow={}&totalRows=571\"\n",
    "headers = {\n",
    "   'User-Agent':'Mozilla/5.0 (Windows NT 6.1; Win64; x64) AppleWebKit/537.36 (KHTML, like Gecko) Chrome/59.0.3071.115 Safari/537.36' \n",
    "}\n",
    "\n",
    "house_arr = []\n",
    "for i in range(0,21):\n",
    "    res = requests.get(url.format(i*20),headers=headers)\n",
    "    data = res.json()\n",
    "    df = pandas.DataFrame(data[\"data\"][\"data\"])\n",
    "    df = df[['address', 'floor', 'allfloor', 'layout','area', 'price','browsenum_all']]\n",
    "#     print(df)\n",
    "    df[['layout_bedroom', 'layout_livingroom', 'layout_bathroom']] = df['layout'].str.extract('(\\d+)房(\\d+)廳(\\d+)衛', expand=False)\n",
    "    df['price'] = df['price'].map(lambda x: int(''.join(x.split(','))))\n",
    "    house_arr.append(df)"
   ]
  },
  {
   "cell_type": "code",
   "execution_count": 65,
   "metadata": {
    "collapsed": false
   },
   "outputs": [],
   "source": [
    "df = pandas.concat(house_arr) #軸向連接，沿著特定的軸(相同label)連接資料\n",
    "df.to_excel(\"house591(1).xlsx\")"
   ]
  },
  {
   "cell_type": "code",
   "execution_count": 66,
   "metadata": {
    "collapsed": true
   },
   "outputs": [],
   "source": [
    "df = pandas.read_excel(\"house591(1).xlsx\")"
   ]
  },
  {
   "cell_type": "code",
   "execution_count": 71,
   "metadata": {
    "collapsed": false
   },
   "outputs": [
    {
     "name": "stdout",
     "output_type": "stream",
     "text": [
      "Populating the interactive namespace from numpy and matplotlib\n"
     ]
    },
    {
     "data": {
      "text/plain": [
       "<matplotlib.axes._subplots.AxesSubplot at 0x1b23f6a8748>"
      ]
     },
     "execution_count": 71,
     "metadata": {},
     "output_type": "execute_result"
    },
    {
     "data": {
      "image/png": "[encoded data removed]",
      "text/plain": [
       "<matplotlib.figure.Figure at 0x1b23f6b8550>"
      ]
     },
     "metadata": {},
     "output_type": "display_data"
    }
   ],
   "source": [
    "# draw scatter\n",
    "%pylab inline\n",
    "df[[\"price\",\"area\"]].plot(kind=\"scatter\", x=\"area\", y=\"price\",figsize=[10,5])\n",
    "# figsize - 圖片大小 10 inch * 5 inch"
   ]
  },
  {
   "cell_type": "code",
   "execution_count": 77,
   "metadata": {
    "collapsed": false
   },
   "outputs": [
    {
     "name": "stdout",
     "output_type": "stream",
     "text": [
      "Coefficient:[ 1832.4971191]\n",
      "Intercept:-12244.700443207723\n"
     ]
    }
   ],
   "source": [
    "# build a linear regression\n",
    "from sklearn.linear_model import LinearRegression\n",
    "y = df[\"price\"]\n",
    "x = df[[\"area\"]]\n",
    "# print(x) # have header\n",
    "# print(y) # no header\n",
    "regression = LinearRegression()\n",
    "regression.fit(x,y)\n",
    "\n",
    "print(\"Coefficient:{}\".format(regression.coef_))\n",
    "print(\"Intercept:{}\".format(regression.intercept_))"
   ]
  },
  {
   "cell_type": "code",
   "execution_count": 79,
   "metadata": {
    "collapsed": false
   },
   "outputs": [
    {
     "data": {
      "text/plain": [
       "<matplotlib.text.Text at 0x1b240be5278>"
      ]
     },
     "execution_count": 79,
     "metadata": {},
     "output_type": "execute_result"
    },
    {
     "data": {
      "image/png": "[encoded data removed]",
      "text/plain": [
       "<matplotlib.figure.Figure at 0x1b23fee4898>"
      ]
     },
     "metadata": {},
     "output_type": "display_data"
    }
   ],
   "source": [
    "# draw a regression line\n",
    "\n",
    "plt.scatter(x,y, color=\"blue\")\n",
    "plt.plot(x, regression.predict(x), linewidth = 3, color = \"red\")\n",
    "plt.xlabel('area')\n",
    "plt.ylabel('price')"
   ]
  },
  {
   "cell_type": "code",
   "execution_count": null,
   "metadata": {
    "collapsed": true
   },
   "outputs": [],
   "source": []
  }
 ],
 "metadata": {
  "kernelspec": {
   "display_name": "Python 3",
   "language": "python",
   "name": "python3"
  },
  "language_info": {
   "codemirror_mode": {
    "name": "ipython",
    "version": 3
   },
   "file_extension": ".py",
   "mimetype": "text/x-python",
   "name": "python",
   "nbconvert_exporter": "python",
   "pygments_lexer": "ipython3",
   "version": "3.6.0"
  }
 },
 "nbformat": 4,
 "nbformat_minor": 2
}
