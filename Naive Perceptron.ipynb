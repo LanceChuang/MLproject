{
 "cells": [
  {
   "cell_type": "code",
   "execution_count": 18,
   "metadata": {},
   "outputs": [],
   "source": [
    "import numpy as np \n",
    "import pandas as pd \n",
    "import matplotlib.pyplot as plt \n",
    "\n",
    "class Perceptron(object):\n",
    "\t'''Perceptron classifier'''\n",
    "\t'''Parameters'''\n",
    "\t# Learning_rate : 0.0 ~ 1.0\n",
    "\t# n_iter : passes over the training dataset\n",
    "\n",
    "\t'''Attributes'''\n",
    "\t# weight_arr : 1d-array , weight after fitting\n",
    "\t# errors_ : list, number of misclassification in each epoch\n",
    "\tdef __init__(self,Learning_rate=0.01,n_iter=10):\n",
    "\t\tself.Learning_rate = Learning_rate\n",
    "\t\tself.n_iter = n_iter\n",
    "\n",
    "\tdef fit(self,X,y):\n",
    "\t\t'''Parameters'''\n",
    "\t\t# X:{array-like}, shape = [n_samples, n_features]\n",
    "\t\t# Training vectors, where n_samples\n",
    "\t\t# is the number of samples and n_features is the number of features.\n",
    "\t\t# y : array-like, shape = [n_samples]\n",
    "\t\t# Target values.\n",
    "\n",
    "\t\tself.weight_arr = np.zeros(1+X.shape[1]) # init all zero weights + bias\n",
    "\t\tself.errors_ = []\n",
    "\n",
    "\t\tfor x in range(self.n_iter):\n",
    "\t\t\terrors = 0\n",
    "\t\t\tfor xi,target in zip(X,y):\n",
    "\t\t\t\tupdate = self.Learning_rate * (target - self.predict(xi))\n",
    "\t\t\t\tself.weight_arr[1:] += update * xi\n",
    "\t\t\t\tself.weight_arr[0] += update\n",
    "\t\t\t\terrors += int(update!=0.0)\n",
    "\t\t\tself.errors_.append(errors)\n",
    "\n",
    "\t\treturn self\n",
    "\n",
    "\tdef predict(self,X):\n",
    "\t\t# return class label after unit step\n",
    "\t\t# numpy.where(condition[, x, y]),\n",
    "\t\t# Return elements, either from x or y, depending on condition\n",
    "\t\t# out : ndarray or tuple of ndarrays\n",
    "\t\treturn np.where(self.net_input(X) >= 0.0,1,-1)\n",
    "\n",
    "\tdef net_input(self,X):\n",
    "\t\t# calculate W.T * x + w[0](bias)\t\n",
    "\t\treturn np.dot(X,self.weight_arr[1:]) + self.weight_arr[0]\n",
    "\n"
   ]
  },
  {
   "cell_type": "code",
   "execution_count": 19,
   "metadata": {},
   "outputs": [
    {
     "data": {
      "text/html": [
       "<div>\n",
       "<style>\n",
       "    .dataframe thead tr:only-child th {\n",
       "        text-align: right;\n",
       "    }\n",
       "\n",
       "    .dataframe thead th {\n",
       "        text-align: left;\n",
       "    }\n",
       "\n",
       "    .dataframe tbody tr th {\n",
       "        vertical-align: top;\n",
       "    }\n",
       "</style>\n",
       "<table border=\"1\" class=\"dataframe\">\n",
       "  <thead>\n",
       "    <tr style=\"text-align: right;\">\n",
       "      <th></th>\n",
       "      <th>0</th>\n",
       "      <th>1</th>\n",
       "      <th>2</th>\n",
       "      <th>3</th>\n",
       "      <th>4</th>\n",
       "    </tr>\n",
       "  </thead>\n",
       "  <tbody>\n",
       "    <tr>\n",
       "      <th>145</th>\n",
       "      <td>6.7</td>\n",
       "      <td>3.0</td>\n",
       "      <td>5.2</td>\n",
       "      <td>2.3</td>\n",
       "      <td>Iris-virginica</td>\n",
       "    </tr>\n",
       "    <tr>\n",
       "      <th>146</th>\n",
       "      <td>6.3</td>\n",
       "      <td>2.5</td>\n",
       "      <td>5.0</td>\n",
       "      <td>1.9</td>\n",
       "      <td>Iris-virginica</td>\n",
       "    </tr>\n",
       "    <tr>\n",
       "      <th>147</th>\n",
       "      <td>6.5</td>\n",
       "      <td>3.0</td>\n",
       "      <td>5.2</td>\n",
       "      <td>2.0</td>\n",
       "      <td>Iris-virginica</td>\n",
       "    </tr>\n",
       "    <tr>\n",
       "      <th>148</th>\n",
       "      <td>6.2</td>\n",
       "      <td>3.4</td>\n",
       "      <td>5.4</td>\n",
       "      <td>2.3</td>\n",
       "      <td>Iris-virginica</td>\n",
       "    </tr>\n",
       "    <tr>\n",
       "      <th>149</th>\n",
       "      <td>5.9</td>\n",
       "      <td>3.0</td>\n",
       "      <td>5.1</td>\n",
       "      <td>1.8</td>\n",
       "      <td>Iris-virginica</td>\n",
       "    </tr>\n",
       "  </tbody>\n",
       "</table>\n",
       "</div>"
      ],
      "text/plain": [
       "       0    1    2    3               4\n",
       "145  6.7  3.0  5.2  2.3  Iris-virginica\n",
       "146  6.3  2.5  5.0  1.9  Iris-virginica\n",
       "147  6.5  3.0  5.2  2.0  Iris-virginica\n",
       "148  6.2  3.4  5.4  2.3  Iris-virginica\n",
       "149  5.9  3.0  5.1  1.8  Iris-virginica"
      ]
     },
     "execution_count": 19,
     "metadata": {},
     "output_type": "execute_result"
    }
   ],
   "source": [
    "df = pd.read_csv(\"http://archive.ics.uci.edu/ml/machine-learning-databases/iris/iris.data\",header=None)\n",
    "df.tail()"
   ]
  },
  {
   "cell_type": "code",
   "execution_count": 20,
   "metadata": {},
   "outputs": [
    {
     "data": {
      "image/png": "[encoded data removed]",
      "text/plain": [
       "<matplotlib.figure.Figure at 0x9fb1358>"
      ]
     },
     "metadata": {},
     "output_type": "display_data"
    }
   ],
   "source": [
    "y = df.iloc[0:100,4].values\n",
    "y = np.where(y==\"Iris-setosa\",-1,1) # numerical label\n",
    "X = df.iloc[0:100, [0,2]].values # get column sepal length and petal length\n",
    "X\n",
    "plt.scatter(X[:50,0],X[:50,1],color='red',marker='o',label='setosa')\n",
    "plt.scatter(X[50:100,0],X[50:100,1],color='blue',marker='x',label='versicolor')\n",
    "\n",
    "plt.xlabel(\"sepal length\")\n",
    "plt.ylabel(\"petal length\")\n",
    "plt.legend(loc=\"upper left\")\n",
    "\n",
    "plt.show()"
   ]
  },
  {
   "cell_type": "code",
   "execution_count": 32,
   "metadata": {},
   "outputs": [
    {
     "data": {
      "image/png": "[encoded data removed]",
      "text/plain": [
       "<matplotlib.figure.Figure at 0x9fe87f0>"
      ]
     },
     "metadata": {},
     "output_type": "display_data"
    }
   ],
   "source": [
    "ppap = Perceptron(Learning_rate=0.1,n_iter=10)\n",
    "ppap.fit(X,y)\n",
    "plt.plot(range(1,len(ppap.errors_) +1),ppap.errors_,marker='o')\n",
    "plt.xlabel(\"Epochs\")\n",
    "plt.ylabel(\"Number of Misclassifications\")\n",
    "plt.show()\n",
    "# ppap.errors_\n",
    "# range(1,len(ppap.errors_)+1) x軸 個數 1,2,3..."
   ]
  },
  {
   "cell_type": "code",
   "execution_count": null,
   "metadata": {
    "collapsed": true
   },
   "outputs": [],
   "source": []
  }
 ],
 "metadata": {
  "kernelspec": {
   "display_name": "Python 3",
   "language": "python",
   "name": "python3"
  },
  "language_info": {
   "codemirror_mode": {
    "name": "ipython",
    "version": 3
   },
   "file_extension": ".py",
   "mimetype": "text/x-python",
   "name": "python",
   "nbconvert_exporter": "python",
   "pygments_lexer": "ipython3",
   "version": "3.6.1"
  }
 },
 "nbformat": 4,
 "nbformat_minor": 2
}
